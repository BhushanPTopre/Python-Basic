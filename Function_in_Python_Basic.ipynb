{
  "nbformat": 4,
  "nbformat_minor": 0,
  "metadata": {
    "colab": {
      "name": "Function in Python Basic.ipynb",
      "provenance": [],
      "collapsed_sections": []
    },
    "kernelspec": {
      "name": "python3",
      "display_name": "Python 3"
    },
    "language_info": {
      "name": "python"
    }
  },
  "cells": [
    {
      "cell_type": "code",
      "metadata": {
        "colab": {
          "base_uri": "https://localhost:8080/"
        },
        "id": "DqevSNdFuPZc",
        "outputId": "c1fba8b0-662d-4bcc-c1d9-14428ab1a6ff"
      },
      "source": [
        "def demo():   # function definition \n",
        "  print('Welcome in Python Function')\n",
        "\n",
        "demo()   # function call "
      ],
      "execution_count": null,
      "outputs": [
        {
          "output_type": "stream",
          "text": [
            "Welcome in Python Function\n"
          ],
          "name": "stdout"
        }
      ]
    },
    {
      "cell_type": "markdown",
      "metadata": {
        "id": "b2SFHqokajx3"
      },
      "source": [
        ""
      ]
    },
    {
      "cell_type": "code",
      "metadata": {
        "colab": {
          "base_uri": "https://localhost:8080/"
        },
        "id": "jOvpxUcUutLj",
        "outputId": "7d6b0caa-75ae-4989-de4e-d54dfed88667"
      },
      "source": [
        "def Sum(x,y):\n",
        "  ans = x + y\n",
        "  return ans\n",
        "\n",
        "print(Sum(10,20))  \n"
      ],
      "execution_count": null,
      "outputs": [
        {
          "output_type": "stream",
          "text": [
            "30\n"
          ],
          "name": "stdout"
        }
      ]
    },
    {
      "cell_type": "code",
      "metadata": {
        "id": "PjeF5nJnvGUH"
      },
      "source": [
        ""
      ],
      "execution_count": null,
      "outputs": []
    },
    {
      "cell_type": "markdown",
      "metadata": {
        "id": "pzCAb69Kak_c"
      },
      "source": [
        "**Arbitary Arguments **\n",
        "\n",
        "Arbitary Arguments is nothing but the arguments which is used to specify how many arguments that will passed into your function by using * symbol.\n",
        "\n",
        "If you do not know how many arguments that will passed into your function, you explicitly add * symbol before the parameter name in the function definition. \n",
        "\n",
        "This is the way the function will recieve a tuple of arguments and can access the items accordingly. \n",
        "\n",
        "Note:- Arbitary arguments are often shortend to *args in python documentation.  "
      ]
    },
    {
      "cell_type": "code",
      "metadata": {
        "colab": {
          "base_uri": "https://localhost:8080/"
        },
        "id": "WF3br87uarqv",
        "outputId": "7aa2ff4c-faa4-4b4b-c409-f51bb28df66f"
      },
      "source": [
        "def name_student(*topper):     # pyhton arbitary Arguments (*args)\n",
        "  print(\"The Tooper Student is \",topper[2])\n",
        "\n",
        "name_student(\"Pooja\",\"John\",\"Roshan\",\"Latika\")      # Function Call "
      ],
      "execution_count": null,
      "outputs": [
        {
          "output_type": "stream",
          "text": [
            "The Tooper Student is  Roshan\n"
          ],
          "name": "stdout"
        }
      ]
    },
    {
      "cell_type": "markdown",
      "metadata": {
        "id": "KR1hejKXdUra"
      },
      "source": [
        "**Keyword Arguments**\n",
        "Keyword arguments is nothing but the arguments which is used to send the actual arguments with the help of key value syntax. \n",
        "\n",
        "Note:- In that Representation, order of the arguments does'nt matter. "
      ]
    },
    {
      "cell_type": "code",
      "metadata": {
        "colab": {
          "base_uri": "https://localhost:8080/"
        },
        "id": "aASOXgsgbfqk",
        "outputId": "2fbabbd1-1043-4d10-c094-5a6209c72676"
      },
      "source": [
        "def baby_name(baby1,baby2,baby3):\n",
        "  print(\"The heavy weight baby is \",baby2)\n",
        "\n",
        "baby_name(baby3=\"Prashik\",baby1=\"Evanshi\",baby2=\"Advait\")  "
      ],
      "execution_count": null,
      "outputs": [
        {
          "output_type": "stream",
          "text": [
            "The heavy weight baby is  Advait\n"
          ],
          "name": "stdout"
        }
      ]
    },
    {
      "cell_type": "markdown",
      "metadata": {
        "id": "zZ1UF33MfF2t"
      },
      "source": [
        "**Arbitary Keyword Arguments (**args) \n",
        "Arbitary Keyword arguments is nothing but the arguments or keyword arguments which is used to specify how many keyword arguments that will passed into your function by using ** symbol.\n",
        "\n",
        "If you don not know about how many keyword arguments that will passed into your function, add 2 asterik **symbol before the parameter name in the function definition.  "
      ]
    },
    {
      "cell_type": "code",
      "metadata": {
        "colab": {
          "base_uri": "https://localhost:8080/"
        },
        "id": "_QPjENMAe1v9",
        "outputId": "8b192800-07af-4c99-a8be-523e35f97fb2"
      },
      "source": [
        "def baby_name(**baby):\n",
        "  print(\"The heavy weight baby is \",baby[\"baby2\"])\n",
        "\n",
        "baby_name(baby3=\"Prashik\",baby1=\"Evanshi\",baby2=\"Advait\")"
      ],
      "execution_count": null,
      "outputs": [
        {
          "output_type": "stream",
          "text": [
            "The heavy weight baby is  Advait\n"
          ],
          "name": "stdout"
        }
      ]
    },
    {
      "cell_type": "markdown",
      "metadata": {
        "id": "o5I35N3UiZZU"
      },
      "source": [
        "**Defualt Parameter Value**\n",
        "DEfulat parameter value is nothing but the value assigned to the specific parameter in function definition, When we call the function without argument then it uses the default value. "
      ]
    },
    {
      "cell_type": "code",
      "metadata": {
        "colab": {
          "base_uri": "https://localhost:8080/"
        },
        "id": "guVnlrvmhKyt",
        "outputId": "bff186c2-25ce-47a2-f21c-53398628328d"
      },
      "source": [
        "def city(district=\"Wardha\"):\n",
        "  print(\"I am from \"+district)\n",
        "\n",
        "city(\"Amravati\")  \n",
        "city()"
      ],
      "execution_count": null,
      "outputs": [
        {
          "output_type": "stream",
          "text": [
            "I am from Amravati\n",
            "I am from Wardha\n"
          ],
          "name": "stdout"
        }
      ]
    },
    {
      "cell_type": "markdown",
      "metadata": {
        "id": "ipAWcMzkkEYa"
      },
      "source": [
        "**Passing the List as an Argument**\n",
        "We can send any data types of argument to a function (String, number,list,dictionary etc) and it will treated as same data type inside the function. "
      ]
    },
    {
      "cell_type": "code",
      "metadata": {
        "colab": {
          "base_uri": "https://localhost:8080/"
        },
        "id": "G5Bchjpcjsi-",
        "outputId": "03ca303e-5cf6-46b8-b959-ec8a3669dd87"
      },
      "source": [
        "def fruits_name(f):\n",
        "  for i in f:\n",
        "    print(i,end=\",\")\n",
        "\n",
        "\n",
        "fruits = [\"Apple\",\"Orange\",\"PineApple\",\"WaterMelon\"]\n",
        "fruits_name(fruits)    # Passing the list as an argument"
      ],
      "execution_count": null,
      "outputs": [
        {
          "output_type": "stream",
          "text": [
            "Apple,Orange,PineApple,WaterMelon,"
          ],
          "name": "stdout"
        }
      ]
    },
    {
      "cell_type": "markdown",
      "metadata": {
        "id": "aPzXWbnolmiS"
      },
      "source": [
        "**Return Values**\n",
        "Return values is nothing but the value which is provided by function after execution. "
      ]
    },
    {
      "cell_type": "code",
      "metadata": {
        "colab": {
          "base_uri": "https://localhost:8080/"
        },
        "id": "sCTudWM-lcJI",
        "outputId": "91fb0ebe-d2e1-4fed-d7f7-9b6a6276a4e1"
      },
      "source": [
        "def cube(n):\n",
        "  ans = n*n*n\n",
        "  return ans \n",
        "\n",
        "\n",
        "n =int(input(\"Enter the value of n:\"))\n",
        "print(\"Cube of \",n,\"is \",cube(n))  "
      ],
      "execution_count": null,
      "outputs": [
        {
          "output_type": "stream",
          "text": [
            "Enter the value of n:4\n",
            "Cube of  4 is  64\n"
          ],
          "name": "stdout"
        }
      ]
    },
    {
      "cell_type": "markdown",
      "metadata": {
        "id": "pJHBwQVppO2E"
      },
      "source": [
        "**Pass Statement**\n",
        "Function definition cannot be empty, but if some reason have a function definition with not content , put it the pass statement to avoid getting error. "
      ]
    },
    {
      "cell_type": "code",
      "metadata": {
        "id": "WzAN_AHDmbZc"
      },
      "source": [
        "def Sum():\n",
        "  pass"
      ],
      "execution_count": null,
      "outputs": []
    },
    {
      "cell_type": "markdown",
      "metadata": {
        "id": "2MLIlI9brxXL"
      },
      "source": [
        "Function that returns sum of first 10 numbers"
      ]
    },
    {
      "cell_type": "code",
      "metadata": {
        "id": "NEQH9ljeqRJm",
        "colab": {
          "base_uri": "https://localhost:8080/"
        },
        "outputId": "31fc3822-46dd-4ef7-ca59-01eff488c440"
      },
      "source": [
        "def Sum():\n",
        "  s = 0\n",
        "  for i in range(1,11):\n",
        "    s = s + i\n",
        "  return s  \n",
        "\n",
        "\n",
        "result = Sum()\n",
        "print(\"Sum of First 10 Natural number is \",result)"
      ],
      "execution_count": null,
      "outputs": [
        {
          "output_type": "stream",
          "text": [
            "Sum of First 10 Natural number is  55\n"
          ],
          "name": "stdout"
        }
      ]
    },
    {
      "cell_type": "markdown",
      "metadata": {
        "id": "7QdEz-xh9YkD"
      },
      "source": [
        "**Recursion** \n",
        "Recursion is nothing but the function which call itself repeteadly until they did not meet the base cretieria. \n",
        "\n",
        "\n",
        "Base Criteria :- Base creteria is nothing but the perticular condition from where function does not call itself. \n",
        "\n",
        "REcursive Function :- A function which is responsible for recursion is called as Recursive function. \n",
        "\n",
        "Direct Recursion :- A direct recursion is nothing but the rcursive function which call itself repetedly until they did not reach/meet the base creteria is called as Direct REcursion. \n",
        "\n"
      ]
    },
    {
      "cell_type": "code",
      "metadata": {
        "id": "igfbnByEstOf",
        "colab": {
          "base_uri": "https://localhost:8080/"
        },
        "outputId": "61064de7-63ac-4acb-dcf2-b0d5729c7f5a"
      },
      "source": [
        "# WAP to check recursion in python \n",
        "def fact(n):\n",
        "  if n==0:    # base creteria \n",
        "    return 1\n",
        "  else:\n",
        "    return n*fact(n-1)\n",
        "\n",
        "n = int(input(\"Enter the value of n:\"))\n",
        "ans = fact(n)\n",
        "print(\"Factorial of \",n,\" is \",ans)"
      ],
      "execution_count": 4,
      "outputs": [
        {
          "output_type": "stream",
          "text": [
            "Enter the value of n:6\n",
            "Factorial of  6  is  720\n"
          ],
          "name": "stdout"
        }
      ]
    },
    {
      "cell_type": "code",
      "metadata": {
        "id": "CZMPI0QMCjgE"
      },
      "source": [
        ""
      ],
      "execution_count": null,
      "outputs": []
    }
  ]
}