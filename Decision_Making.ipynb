{
  "nbformat": 4,
  "nbformat_minor": 0,
  "metadata": {
    "colab": {
      "name": "Decision Making.ipynb",
      "provenance": [],
      "collapsed_sections": []
    },
    "kernelspec": {
      "name": "python3",
      "display_name": "Python 3"
    },
    "language_info": {
      "name": "python"
    }
  },
  "cells": [
    {
      "cell_type": "code",
      "metadata": {
        "id": "pHFSPtYjnii4"
      },
      "source": [
        "# Decision Making\n"
      ],
      "execution_count": null,
      "outputs": []
    },
    {
      "cell_type": "markdown",
      "metadata": {
        "id": "JGVZUti6nuo5"
      },
      "source": [
        "# Decision Making \n",
        "Decision Making is nothing but the predefined statement which is used to check perticular condition is true or false. There are  4 decision making statments in python:-  \n",
        "1) if statement\n",
        "2) if..else statements\n",
        "3) nested if statements\n",
        "4) if-elif ladder\n",
        "\n"
      ]
    },
    {
      "cell_type": "code",
      "metadata": {
        "colab": {
          "base_uri": "https://localhost:8080/"
        },
        "id": "nwngTOlioXNc",
        "outputId": "d1e6b60f-89bf-4f6e-ce66-5ef03e833758"
      },
      "source": [
        "# decision making ( 1) if 2) if ...else )\n",
        "x = 6\n",
        "if x % 2 == 0:\n",
        "  print(\"X is EVEN number\")\n"
      ],
      "execution_count": null,
      "outputs": [
        {
          "output_type": "stream",
          "text": [
            "X is EVEN number\n"
          ],
          "name": "stdout"
        }
      ]
    },
    {
      "cell_type": "code",
      "metadata": {
        "colab": {
          "base_uri": "https://localhost:8080/"
        },
        "id": "-x7g1lcdopPd",
        "outputId": "41692d74-ce64-4c94-9ca8-cc8fffa9e87e"
      },
      "source": [
        "x = 5\n",
        "if x % 2 == 0:\n",
        "  print(\"X is EVEN number\")\n",
        "else:\n",
        "  print(\"X is ODD number\")  "
      ],
      "execution_count": null,
      "outputs": [
        {
          "output_type": "stream",
          "text": [
            "X is ODD number\n"
          ],
          "name": "stdout"
        }
      ]
    },
    {
      "cell_type": "code",
      "metadata": {
        "colab": {
          "base_uri": "https://localhost:8080/"
        },
        "id": "FbKo1TF-pHt9",
        "outputId": "c3cd9381-05b7-4f22-8c3f-67d42a2b9573"
      },
      "source": [
        "# Nested if else\n",
        "# Check Given number is divisible by 2 and 5 \n",
        "x = 28\n",
        "if x % 2 == 0:\n",
        "  if x % 5 == 0:\n",
        "    print(\"X is Divisible by both 2 and 5\")\n",
        "  else:\n",
        "    print(\"X is Divisible by 2 but not 5\")  \n",
        "else:\n",
        "  print(\"X is not divisible by both 2 and 5\")  \n"
      ],
      "execution_count": null,
      "outputs": [
        {
          "output_type": "stream",
          "text": [
            "X is Divisible by 2 but not 5\n"
          ],
          "name": "stdout"
        }
      ]
    },
    {
      "cell_type": "code",
      "metadata": {
        "colab": {
          "base_uri": "https://localhost:8080/"
        },
        "id": "tOiotF5-p1h3",
        "outputId": "dcb1eaeb-fab2-4175-c69c-e60dfef4de97"
      },
      "source": [
        "# if...elif ladder\n",
        "a = int(input(\"Enter the number from 1 to 4 only:\"))\n",
        "if a == 1:\n",
        "  print(\"ONE\")\n",
        "elif a ==2:\n",
        "  print(\"TWO\")\n",
        "elif a ==3:\n",
        "  print(\"THREE\")\n",
        "elif a ==4:\n",
        "  print(\"FOUR\")\n",
        "else:\n",
        "  print(\"INVALID Number\")   \n"
      ],
      "execution_count": null,
      "outputs": [
        {
          "output_type": "stream",
          "text": [
            "Enter the number from 1 to 4 only:7\n",
            "INVALID Number\n"
          ],
          "name": "stdout"
        }
      ]
    },
    {
      "cell_type": "code",
      "metadata": {
        "id": "f5wczehsq4j4"
      },
      "source": [
        ""
      ],
      "execution_count": null,
      "outputs": []
    }
  ]
}