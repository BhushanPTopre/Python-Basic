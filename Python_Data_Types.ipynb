{
  "nbformat": 4,
  "nbformat_minor": 0,
  "metadata": {
    "colab": {
      "name": "Python_Data_Types.ipynb",
      "provenance": [],
      "collapsed_sections": []
    },
    "kernelspec": {
      "name": "python3",
      "display_name": "Python 3"
    },
    "language_info": {
      "name": "python"
    }
  },
  "cells": [
    {
      "cell_type": "markdown",
      "metadata": {
        "id": "bcM_RLJdffN3"
      },
      "source": [
        "**Python Data Types**\n",
        "Data types is nothing but predfeined set of characaters which is used to specify type of data and amount of memory required to store the data. There are various types of data types or standard built in data types used in python are as follows:- \n",
        " 1) Numeric \n",
        " 2) Sequence Type\n",
        " 3) Boolean \n",
        " 4) Set \n",
        " 5) Dictonary \n",
        "\n",
        "1) Numeric :- Numeric is nothing  but the Data type in python which is used to represent the data which has numeric value. Numeric value represents int, float or complex also. These values are defined as int, float and complex class in python.   \n",
        "\n",
        "Integers :-  Integers is nothng but the class in python or data type which is used to represnt int type value. It contains positive or negative values without using decimal point. In Python , there is no limit how long integer can be. \n",
        "\n",
        "Float :- Float is nothing but the class in python or data type which is used to represnt real type value.  It contains positive or negative values with using decimal point. Optionally, the charcater e or E followed by a integer may be appended to specify scientific notation. \n",
        "\n",
        "Complex:- Complex is nothing but the class in python or data type which is used to represnt complex value. It is specially use to specify as (realval)+(img value)j\n",
        "Example:-  2 + 3j   "
      ]
    },
    {
      "cell_type": "code",
      "metadata": {
        "colab": {
          "base_uri": "https://localhost:8080/"
        },
        "id": "aWT2i0urkp70",
        "outputId": "d3861b32-1e34-4680-b2a9-3f706f637a93"
      },
      "source": [
        "#python program to identify numeric value\n",
        "a=5\n",
        "print(type(a))\n",
        "x=5.25\n",
        "print(type(x))\n",
        "z=2+3j\n",
        "print(type(z))"
      ],
      "execution_count": null,
      "outputs": [
        {
          "output_type": "stream",
          "text": [
            "<class 'int'>\n",
            "<class 'float'>\n",
            "<class 'complex'>\n"
          ],
          "name": "stdout"
        }
      ]
    },
    {
      "cell_type": "markdown",
      "metadata": {
        "id": "jOlObpqwlV4U"
      },
      "source": [
        "2) **Sequence Type**\n",
        "Sequence type is nothing but the data type in python which is used to specify collection of similar or different data types in to single unit having specific ordered. \n",
        "\n",
        "Sequence type is nothing but the data type in python which is used to specify ordered collection of similar or different data types in to single unit. There are various types of Seqence types are as follows:- \n",
        "\n",
        "**Note:- ** Sequence allows us to store the multiple values in an organised and effiicent fasion. \n",
        "\n",
        "1) String \n",
        "2) List\n",
        "3) Tuple\n",
        "\n",
        "1) String :- String is nothing but the Squence Type in python which is sused to represents sequence of bytes or set of charcaters. Strings are arrays of bytes representing unicode charcaters.A string is a collection of one or more characters \n",
        "put in a single quote, double-quote or triple quote. In python there is no character data type, a character is a string of length one. It is represented by str class. "
      ]
    },
    {
      "cell_type": "code",
      "metadata": {
        "colab": {
          "base_uri": "https://localhost:8080/"
        },
        "id": "t-zv7lO5rGuf",
        "outputId": "000ad97b-3213-41c8-9cfd-8d26f5546119"
      },
      "source": [
        "# Program to learn String Squence Type\n",
        "name = 'Jagte Rahoooo' \n",
        "print(name)"
      ],
      "execution_count": null,
      "outputs": [
        {
          "output_type": "stream",
          "text": [
            "Jagte Rahoooo\n"
          ],
          "name": "stdout"
        }
      ]
    },
    {
      "cell_type": "code",
      "metadata": {
        "colab": {
          "base_uri": "https://localhost:8080/"
        },
        "id": "OpCxn2PDrWEY",
        "outputId": "3f771491-ad2a-4739-88e9-f871ca268521"
      },
      "source": [
        "print(name[6])"
      ],
      "execution_count": null,
      "outputs": [
        {
          "output_type": "stream",
          "text": [
            "R\n"
          ],
          "name": "stdout"
        }
      ]
    },
    {
      "cell_type": "code",
      "metadata": {
        "colab": {
          "base_uri": "https://localhost:8080/"
        },
        "id": "VDccDs49sS5M",
        "outputId": "3fd75bd1-a26a-4090-dd08-34c7e59d74e5"
      },
      "source": [
        "print(name[-5])"
      ],
      "execution_count": null,
      "outputs": [
        {
          "output_type": "stream",
          "text": [
            "h\n"
          ],
          "name": "stdout"
        }
      ]
    },
    {
      "cell_type": "code",
      "metadata": {
        "colab": {
          "base_uri": "https://localhost:8080/"
        },
        "id": "Sx5k6524sXZm",
        "outputId": "46dff1d6-f9b9-4c6f-cf16-d507faa8a918"
      },
      "source": [
        "Fname =\"Nidhi\"\n",
        "Lname =\"Agarwal\"\n",
        "print(Lname,Fname)"
      ],
      "execution_count": null,
      "outputs": [
        {
          "output_type": "stream",
          "text": [
            "Agarwal Nidhi\n"
          ],
          "name": "stdout"
        }
      ]
    },
    {
      "cell_type": "markdown",
      "metadata": {
        "id": "ReEMHqz545EJ"
      },
      "source": [
        "2) List \n",
        "List is nothing but the ordered collection of different data elements. Lists is just like arrays, declared in other languages. IT is very flexible as the items in a list do not need to be the same type. \n",
        "\n",
        "How we create the list? \n",
        "Ans:- With the help of following syntax:- \n",
        "List in the python can be created sequence inside the square brackets [] .\n",
        " Syntax:-   List_name =[List of values seperated by comma's]\n",
        "\n",
        " Example:- fruits_name=['apple','orange','watermelon']\n",
        "\n",
        " \n"
      ]
    },
    {
      "cell_type": "code",
      "metadata": {
        "id": "offapYqws2IJ",
        "colab": {
          "base_uri": "https://localhost:8080/"
        },
        "outputId": "3205fa87-9fd0-42d7-ac43-cf3cfacb8cf2"
      },
      "source": [
        "# Example 1\n",
        "x = []\n",
        "print(\"Initially List is Empty\")\n",
        "print(type(x))"
      ],
      "execution_count": null,
      "outputs": [
        {
          "output_type": "stream",
          "text": [
            "Initially List is Empty\n",
            "<class 'list'>\n"
          ],
          "name": "stdout"
        }
      ]
    },
    {
      "cell_type": "code",
      "metadata": {
        "colab": {
          "base_uri": "https://localhost:8080/"
        },
        "id": "R9bkiBok65E7",
        "outputId": "cb9dc8c3-0da1-4181-cb59-09e580ae669b"
      },
      "source": [
        "x = ['Orange','WaterMelon','Grapes']\n",
        "print(x)\n",
        "print(x[1])"
      ],
      "execution_count": null,
      "outputs": [
        {
          "output_type": "stream",
          "text": [
            "['Orange', 'WaterMelon', 'Grapes']\n",
            "WaterMelon\n"
          ],
          "name": "stdout"
        }
      ]
    },
    {
      "cell_type": "code",
      "metadata": {
        "colab": {
          "base_uri": "https://localhost:8080/"
        },
        "id": "QiUUd-m07OPS",
        "outputId": "813a3a2c-b2e9-4d4d-9861-b0e2346a7e30"
      },
      "source": [
        "x = ['ORange','Pineapple',[250,450],'Grapes',[33,44,55,66]]\n",
        "print(x)\n",
        "print(x[3])\n",
        "print(x[2])\n",
        "print(x[2][0])\n",
        "print(x[4][2])"
      ],
      "execution_count": null,
      "outputs": [
        {
          "output_type": "stream",
          "text": [
            "['ORange', 'Pineapple', [250, 450], 'Grapes', [33, 44, 55, 66]]\n",
            "Grapes\n",
            "[250, 450]\n",
            "250\n",
            "55\n"
          ],
          "name": "stdout"
        }
      ]
    },
    {
      "cell_type": "markdown",
      "metadata": {
        "id": "8vhGr3-QMK0l"
      },
      "source": [
        "Program based on List"
      ]
    },
    {
      "cell_type": "code",
      "metadata": {
        "colab": {
          "base_uri": "https://localhost:8080/"
        },
        "id": "pSLs0qVGMPMx",
        "outputId": "730e6270-1589-4f6b-e5ab-2b6ae31e3064"
      },
      "source": [
        "# WAP in python to print sum of item in the list \n",
        "sum = 0\n",
        "x = [23,5,6,7,20]\n",
        "for i in x:\n",
        "  sum += i        # sum = sum + i \n",
        "print(\"Sum of List elements is \",sum)  "
      ],
      "execution_count": null,
      "outputs": [
        {
          "output_type": "stream",
          "text": [
            "Sum of List elements is  61\n"
          ],
          "name": "stdout"
        }
      ]
    },
    {
      "cell_type": "code",
      "metadata": {
        "colab": {
          "base_uri": "https://localhost:8080/"
        },
        "id": "v2ng1cvUT0Iy",
        "outputId": "874a1f23-18c0-48b5-fba0-30f3ac7d8fc1"
      },
      "source": [
        "#Write a Python program to multiplies all the items in a list.\n",
        "mul = 1\n",
        "z = [22,41,55,21,12]\n",
        "for i in z:\n",
        "  mul *= i  \n",
        "print(\"Multiplication of list elements are \",mul)\n",
        "  \n"
      ],
      "execution_count": null,
      "outputs": [
        {
          "output_type": "stream",
          "text": [
            "Multiplication of list elements are  12501720\n"
          ],
          "name": "stdout"
        }
      ]
    },
    {
      "cell_type": "markdown",
      "metadata": {
        "id": "BDYoIuvAxga8"
      },
      "source": [
        "3) Tuple \n",
        "Tuple is nothing but the ordered collection of different data elements or objects but it is immuatable (can't Modify). In python , tuples are created by placing sequence of values seperated by comma with or without use of parentheses for grouping of data sequence. Tuples can contain any number of data types and any number of elements(Strings,integers,list etc) \n",
        "\n",
        "Note:- Tuples can also be created with a single element, but it bit a tricky. Having one lement in the parenthesis is ot sufficient , there must be trailing comma to make it tuple. \n",
        "\n",
        "How we create tuple? \n",
        "Ans:- With the help of following sytax:- \n",
        "\n",
        "Syntax:-  var_name=(List of elements)\n",
        "\n",
        "For exmaple:- \n",
        "\n",
        " T1 = ('Nidhi','Gaytri')"
      ]
    },
    {
      "cell_type": "code",
      "metadata": {
        "id": "MhTNjch98UIS",
        "colab": {
          "base_uri": "https://localhost:8080/"
        },
        "outputId": "380f1163-cb14-493c-8c36-d3f8975dc717"
      },
      "source": [
        "t=()\n",
        "print(type(t))"
      ],
      "execution_count": null,
      "outputs": [
        {
          "output_type": "stream",
          "text": [
            "<class 'tuple'>\n"
          ],
          "name": "stdout"
        }
      ]
    },
    {
      "cell_type": "code",
      "metadata": {
        "colab": {
          "base_uri": "https://localhost:8080/"
        },
        "id": "euVMSuqj0NfK",
        "outputId": "dc3a4b01-40e0-4376-fb38-c24d93553da4"
      },
      "source": [
        "t=('Nidhi','Gaytri',[4,5,6])\n",
        "print(t)"
      ],
      "execution_count": null,
      "outputs": [
        {
          "output_type": "stream",
          "text": [
            "('Nidhi', 'Gaytri', [4, 5, 6])\n"
          ],
          "name": "stdout"
        }
      ]
    },
    {
      "cell_type": "code",
      "metadata": {
        "colab": {
          "base_uri": "https://localhost:8080/"
        },
        "id": "m_vJRwQi0XgD",
        "outputId": "dd042c66-bc5c-42c2-e4bb-e86cca5a371c"
      },
      "source": [
        "l = [34,55,7]\n",
        "tuple1 = (l)\n",
        "print(tuple1)"
      ],
      "execution_count": null,
      "outputs": [
        {
          "output_type": "stream",
          "text": [
            "[34, 55, 7]\n"
          ],
          "name": "stdout"
        }
      ]
    },
    {
      "cell_type": "code",
      "metadata": {
        "colab": {
          "base_uri": "https://localhost:8080/"
        },
        "id": "WYj7DaMN0xLX",
        "outputId": "dc15b7d9-2bc4-4cb3-dcde-06d2498bb006"
      },
      "source": [
        "T1 = (0,1,2,4)\n",
        "T2 = ('Pooja','Arti')\n",
        "T3 = (T1,T2)   # nested Tuple\n",
        "print(T3)"
      ],
      "execution_count": null,
      "outputs": [
        {
          "output_type": "stream",
          "text": [
            "((0, 1, 2, 4), ('Pooja', 'Arti'))\n"
          ],
          "name": "stdout"
        }
      ]
    },
    {
      "cell_type": "code",
      "metadata": {
        "colab": {
          "base_uri": "https://localhost:8080/",
          "height": 212
        },
        "id": "cWrvWhkY1Tf7",
        "outputId": "88d9b24a-f596-4bba-a32f-e22f806ab473"
      },
      "source": [
        "#How to Access the Tuple Elements \n",
        "T = tuple([9,7,6,5,4],[66,88,33])\n",
        "print(T)\n",
        "#print(T[-1])\n"
      ],
      "execution_count": null,
      "outputs": [
        {
          "output_type": "error",
          "ename": "TypeError",
          "evalue": "ignored",
          "traceback": [
            "\u001b[0;31m---------------------------------------------------------------------------\u001b[0m",
            "\u001b[0;31mTypeError\u001b[0m                                 Traceback (most recent call last)",
            "\u001b[0;32m<ipython-input-13-dddca10931b6>\u001b[0m in \u001b[0;36m<module>\u001b[0;34m()\u001b[0m\n\u001b[1;32m      1\u001b[0m \u001b[0;31m#How to Access the Tuple Elements\u001b[0m\u001b[0;34m\u001b[0m\u001b[0;34m\u001b[0m\u001b[0;34m\u001b[0m\u001b[0m\n\u001b[0;32m----> 2\u001b[0;31m \u001b[0mT\u001b[0m \u001b[0;34m=\u001b[0m \u001b[0mtuple\u001b[0m\u001b[0;34m(\u001b[0m\u001b[0;34m[\u001b[0m\u001b[0;36m9\u001b[0m\u001b[0;34m,\u001b[0m\u001b[0;36m7\u001b[0m\u001b[0;34m,\u001b[0m\u001b[0;36m6\u001b[0m\u001b[0;34m,\u001b[0m\u001b[0;36m5\u001b[0m\u001b[0;34m,\u001b[0m\u001b[0;36m4\u001b[0m\u001b[0;34m]\u001b[0m\u001b[0;34m,\u001b[0m\u001b[0;34m[\u001b[0m\u001b[0;36m66\u001b[0m\u001b[0;34m,\u001b[0m\u001b[0;36m88\u001b[0m\u001b[0;34m,\u001b[0m\u001b[0;36m33\u001b[0m\u001b[0;34m]\u001b[0m\u001b[0;34m)\u001b[0m\u001b[0;34m\u001b[0m\u001b[0;34m\u001b[0m\u001b[0m\n\u001b[0m\u001b[1;32m      3\u001b[0m \u001b[0mprint\u001b[0m\u001b[0;34m(\u001b[0m\u001b[0mT\u001b[0m\u001b[0;34m)\u001b[0m\u001b[0;34m\u001b[0m\u001b[0;34m\u001b[0m\u001b[0m\n\u001b[1;32m      4\u001b[0m \u001b[0;31m#print(T[-1])\u001b[0m\u001b[0;34m\u001b[0m\u001b[0;34m\u001b[0m\u001b[0;34m\u001b[0m\u001b[0m\n",
            "\u001b[0;31mTypeError\u001b[0m: tuple expected at most 1 arguments, got 2"
          ]
        }
      ]
    },
    {
      "cell_type": "code",
      "metadata": {
        "colab": {
          "base_uri": "https://localhost:8080/",
          "height": 212
        },
        "id": "ao6jOHl3181w",
        "outputId": "fda10437-d2cf-4458-b2d0-8e3cd7437193"
      },
      "source": [
        "l1= [9,8,7,6]\n",
        "l2= [88,66,77]\n",
        "nidhi = tuple(l1,l2)\n",
        "print(nidhi)"
      ],
      "execution_count": null,
      "outputs": [
        {
          "output_type": "error",
          "ename": "TypeError",
          "evalue": "ignored",
          "traceback": [
            "\u001b[0;31m---------------------------------------------------------------------------\u001b[0m",
            "\u001b[0;31mTypeError\u001b[0m                                 Traceback (most recent call last)",
            "\u001b[0;32m<ipython-input-16-fdc781e79ea0>\u001b[0m in \u001b[0;36m<module>\u001b[0;34m()\u001b[0m\n\u001b[1;32m      1\u001b[0m \u001b[0ml1\u001b[0m\u001b[0;34m=\u001b[0m \u001b[0;34m[\u001b[0m\u001b[0;36m9\u001b[0m\u001b[0;34m,\u001b[0m\u001b[0;36m8\u001b[0m\u001b[0;34m,\u001b[0m\u001b[0;36m7\u001b[0m\u001b[0;34m,\u001b[0m\u001b[0;36m6\u001b[0m\u001b[0;34m]\u001b[0m\u001b[0;34m\u001b[0m\u001b[0;34m\u001b[0m\u001b[0m\n\u001b[1;32m      2\u001b[0m \u001b[0ml2\u001b[0m\u001b[0;34m=\u001b[0m \u001b[0;34m[\u001b[0m\u001b[0;36m88\u001b[0m\u001b[0;34m,\u001b[0m\u001b[0;36m66\u001b[0m\u001b[0;34m,\u001b[0m\u001b[0;36m77\u001b[0m\u001b[0;34m]\u001b[0m\u001b[0;34m\u001b[0m\u001b[0;34m\u001b[0m\u001b[0m\n\u001b[0;32m----> 3\u001b[0;31m \u001b[0mnidhi\u001b[0m \u001b[0;34m=\u001b[0m \u001b[0mtuple\u001b[0m\u001b[0;34m(\u001b[0m\u001b[0ml1\u001b[0m\u001b[0;34m,\u001b[0m\u001b[0ml2\u001b[0m\u001b[0;34m)\u001b[0m\u001b[0;34m\u001b[0m\u001b[0;34m\u001b[0m\u001b[0m\n\u001b[0m\u001b[1;32m      4\u001b[0m \u001b[0mprint\u001b[0m\u001b[0;34m(\u001b[0m\u001b[0mnidhi\u001b[0m\u001b[0;34m)\u001b[0m\u001b[0;34m\u001b[0m\u001b[0;34m\u001b[0m\u001b[0m\n",
            "\u001b[0;31mTypeError\u001b[0m: tuple expected at most 1 arguments, got 2"
          ]
        }
      ]
    },
    {
      "cell_type": "markdown",
      "metadata": {
        "id": "qEmv9FEhHXWC"
      },
      "source": [
        "4) Boolean \n",
        "Boolean is nothing but the predefined data type in python which is used to provide true or false condition. It means that it has two build in values that is True or False. Boolean in python is denoted by bool class. "
      ]
    },
    {
      "cell_type": "code",
      "metadata": {
        "id": "oL5Is5lC34hA",
        "colab": {
          "base_uri": "https://localhost:8080/"
        },
        "outputId": "148ce2c3-86cd-4af7-dd0f-e7f7d889b188"
      },
      "source": [
        "print(type(True))"
      ],
      "execution_count": null,
      "outputs": [
        {
          "output_type": "stream",
          "text": [
            "<class 'bool'>\n"
          ],
          "name": "stdout"
        }
      ]
    },
    {
      "cell_type": "markdown",
      "metadata": {
        "id": "Oj8Y1m-ZIxMU"
      },
      "source": [
        "5) Set \n",
        "\n",
        "Set is nothing but the unordered collection of data type in single unit. Set is iterable, mutable and no duplicate elements in the collection. In set order of elements is undefined. It may consists of various elements. \n",
        "\n",
        "How we create set? \n",
        "Ans;- With the help of follwoing syntax:- \n",
        "\n",
        "Synatx:-  set({list of elemnts})\n",
        "\n",
        "Example:- \n",
        "          set({34,45,56,5,6})\n"
      ]
    },
    {
      "cell_type": "code",
      "metadata": {
        "colab": {
          "base_uri": "https://localhost:8080/"
        },
        "id": "t78X5abUIfXu",
        "outputId": "addbb191-a2ed-42ba-ad81-c2be83553fb1"
      },
      "source": [
        "s  = set()\n",
        "print(type(s))"
      ],
      "execution_count": null,
      "outputs": [
        {
          "output_type": "stream",
          "text": [
            "<class 'set'>\n"
          ],
          "name": "stdout"
        }
      ]
    },
    {
      "cell_type": "code",
      "metadata": {
        "colab": {
          "base_uri": "https://localhost:8080/"
        },
        "id": "mPjKmnVSK4Wy",
        "outputId": "7eae2e74-5a23-4bba-96a1-54836ee396a8"
      },
      "source": [
        "s= set([\"Bhushan\",\"Mona\",\"Shubham\"])\n",
        "print(s)\n",
        "print(type(s))"
      ],
      "execution_count": null,
      "outputs": [
        {
          "output_type": "stream",
          "text": [
            "{'Bhushan', 'Mona', 'Shubham'}\n",
            "<class 'set'>\n"
          ],
          "name": "stdout"
        }
      ]
    },
    {
      "cell_type": "code",
      "metadata": {
        "colab": {
          "base_uri": "https://localhost:8080/"
        },
        "id": "qxfrAlYHLAYm",
        "outputId": "34a46cf4-2ddc-4755-ebd7-809c5be38651"
      },
      "source": [
        "x = set([1,2,3,'Bhushan',5,6,'Jain',8])\n",
        "print(x)"
      ],
      "execution_count": null,
      "outputs": [
        {
          "output_type": "stream",
          "text": [
            "{1, 2, 3, 'Bhushan', 5, 6, 8, 'Jain'}\n"
          ],
          "name": "stdout"
        }
      ]
    },
    {
      "cell_type": "code",
      "metadata": {
        "colab": {
          "base_uri": "https://localhost:8080/"
        },
        "id": "n5sKuaKbMoVV",
        "outputId": "1f23ebcd-e7ba-4724-94e4-ae4011371f9b"
      },
      "source": [
        "x = set(['H','V','P','M'])\n",
        "print(x)"
      ],
      "execution_count": null,
      "outputs": [
        {
          "output_type": "stream",
          "text": [
            "{'H', 'v', 'M', 'P'}\n"
          ],
          "name": "stdout"
        }
      ]
    },
    {
      "cell_type": "code",
      "metadata": {
        "colab": {
          "base_uri": "https://localhost:8080/"
        },
        "id": "VKSYFpNMM5yo",
        "outputId": "389de1b9-0d57-41c6-ddf6-a86c39c9da5e"
      },
      "source": [
        "print(\"Elemts in Set x are as follows:- \")\n",
        "for i in x:\n",
        "  print(i,end='  ')\n",
        "\n",
        "print('v' in x)  \n"
      ],
      "execution_count": null,
      "outputs": [
        {
          "output_type": "stream",
          "text": [
            "Elemts in Set x are as follows:- \n",
            "H  v  M  P  True\n"
          ],
          "name": "stdout"
        }
      ]
    },
    {
      "cell_type": "markdown",
      "metadata": {
        "id": "7yYjdeDYDPui"
      },
      "source": [
        "# BAsic REvision of Data Types "
      ]
    },
    {
      "cell_type": "code",
      "metadata": {
        "colab": {
          "base_uri": "https://localhost:8080/"
        },
        "id": "mGyKWxDCDbNh",
        "outputId": "871ea3da-4121-4266-ccdc-5453a0c3b8cd"
      },
      "source": [
        "# Printing output to the console / How to print the data on the screen \n",
        "print(\"Do Hard Tricky Work to Know the Python Concept for Data Science\")   # Only one object is passed as parameter\n",
        "x = 5\n",
        "print(\"x =\",x)   # Two obejcts are passed as parameter \n",
        "print(\"H\",\"V\",\"P\",\"M\",sep='')    # here we disable the space feature \n",
        "print(\"Data Science\",end='@')    # Print statment using end parameter \n",
        "print(\"Python\") "
      ],
      "execution_count": null,
      "outputs": [
        {
          "output_type": "stream",
          "text": [
            "Do Hard Tricky Work to Know the Python Concept for Data Science\n",
            "x = 5\n",
            "HVPM\n",
            "Data Science@Python\n"
          ],
          "name": "stdout"
        }
      ]
    },
    {
      "cell_type": "code",
      "metadata": {
        "colab": {
          "base_uri": "https://localhost:8080/"
        },
        "id": "8ZLoCoJOEFr6",
        "outputId": "d9146c2b-55d7-445e-82cd-6bd0c3a4801a"
      },
      "source": [
        "# print the string using single quotes\n",
        "print('Do study tricky to get the Dream Job')\n",
        "# print the string using double quotes\n",
        "print(\"Do study tricky to get the Dream Job\")\n",
        "# print the string using triple quotes\n",
        "print(\"\"\"Do study tricky to get the Dream Job\"\"\")\n"
      ],
      "execution_count": null,
      "outputs": [
        {
          "output_type": "stream",
          "text": [
            "Do study tricky to get the Dream Job\n",
            "Do study tricky to get the Dream Job\n",
            "Do study tricky to get the Dream Job\n"
          ],
          "name": "stdout"
        }
      ]
    },
    {
      "cell_type": "code",
      "metadata": {
        "colab": {
          "base_uri": "https://localhost:8080/"
        },
        "id": "6RcRB5g4F2Dj",
        "outputId": "8bd7c8a0-0a5a-40a9-8e8e-934b41dd43dc"
      },
      "source": [
        "# Accessing te characters in the string\n",
        "name = \"Nidhi\"\n",
        "print(name[-1]) # print last character using -1 location \n",
        "print(name[1]) # print Second character using 1 location \n",
        "print(name[0]) # print first character using 1 location "
      ],
      "execution_count": null,
      "outputs": [
        {
          "output_type": "stream",
          "text": [
            "i\n",
            "i\n",
            "N\n"
          ],
          "name": "stdout"
        }
      ]
    },
    {
      "cell_type": "code",
      "metadata": {
        "id": "3nSRH1_RGrut"
      },
      "source": [
        "  # Accessing the charcaters in the string for updating and deleteing\n",
        "  statement = \"My name is Sachin. I am love to read news paper.\"  "
      ],
      "execution_count": null,
      "outputs": []
    },
    {
      "cell_type": "code",
      "metadata": {
        "colab": {
          "base_uri": "https://localhost:8080/"
        },
        "id": "c4qfQLxWHobD",
        "outputId": "2b5d008f-90a1-410a-ecaf-f3a86c77ae16"
      },
      "source": [
        "# List Creation \n",
        "L = []   # empty list \n",
        "D = ['Bhushan','SAchin','Nidhi','Gaytri']   # List \n",
        "G = ['Bhushan','SAchin',['Nidhi','Gaytri']]  # Nested List \n",
        "U = [1,2,5,6,7,8]\n",
        "print(L)\n",
        "print(D)\n",
        "print(G)\n",
        "print(U)"
      ],
      "execution_count": null,
      "outputs": [
        {
          "output_type": "stream",
          "text": [
            "[]\n",
            "['Bhushan', 'SAchin', 'Nidhi', 'Gaytri']\n",
            "['Bhushan', 'SAchin', ['Nidhi', 'Gaytri']]\n",
            "[1, 2, 5, 6, 7, 8]\n"
          ],
          "name": "stdout"
        }
      ]
    },
    {
      "cell_type": "code",
      "metadata": {
        "colab": {
          "base_uri": "https://localhost:8080/"
        },
        "id": "czxsSYzCKlM5",
        "outputId": "23df85d4-82ce-423f-fdb4-0deeb1f2aafd"
      },
      "source": [
        "# Adding the elements in the List \n",
        "L.append(10)\n",
        "print(L)\n",
        "L.append(5)\n",
        "print(L)"
      ],
      "execution_count": null,
      "outputs": [
        {
          "output_type": "stream",
          "text": [
            "[10, 10]\n",
            "[10, 10, 5]\n"
          ],
          "name": "stdout"
        }
      ]
    },
    {
      "cell_type": "code",
      "metadata": {
        "colab": {
          "base_uri": "https://localhost:8080/"
        },
        "id": "n0-i6EgBLWn7",
        "outputId": "970fcd50-7d48-4f69-a758-027fe30235f2"
      },
      "source": [
        "L.insert(1,88)\n",
        "print(L)"
      ],
      "execution_count": null,
      "outputs": [
        {
          "output_type": "stream",
          "text": [
            "[10, 88, 10, 5]\n"
          ],
          "name": "stdout"
        }
      ]
    },
    {
      "cell_type": "code",
      "metadata": {
        "colab": {
          "base_uri": "https://localhost:8080/"
        },
        "id": "heh0NJ9iOMFM",
        "outputId": "0de7aeac-1a92-4d31-9daf-58c9b186b1e7"
      },
      "source": [
        "L.remove(10)\n",
        "print(L)"
      ],
      "execution_count": null,
      "outputs": [
        {
          "output_type": "stream",
          "text": [
            "[88, 10, 5]\n"
          ],
          "name": "stdout"
        }
      ]
    },
    {
      "cell_type": "code",
      "metadata": {
        "colab": {
          "base_uri": "https://localhost:8080/"
        },
        "id": "T-Dan2PFOpuH",
        "outputId": "0532d2a8-15b3-44e9-9537-e039a6ba2b89"
      },
      "source": [
        "L.pop(1)\n",
        "print(L)"
      ],
      "execution_count": null,
      "outputs": [
        {
          "output_type": "stream",
          "text": [
            "[88, 5]\n"
          ],
          "name": "stdout"
        }
      ]
    },
    {
      "cell_type": "code",
      "metadata": {
        "colab": {
          "base_uri": "https://localhost:8080/"
        },
        "id": "fnAoD20YOxPH",
        "outputId": "05e9f3ce-2f21-4ea2-ff63-b56525ffd20e"
      },
      "source": [
        "T=(33,54,66,76)\n",
        "print(type(T))"
      ],
      "execution_count": null,
      "outputs": [
        {
          "output_type": "stream",
          "text": [
            "<class 'tuple'>\n"
          ],
          "name": "stdout"
        }
      ]
    },
    {
      "cell_type": "code",
      "metadata": {
        "colab": {
          "base_uri": "https://localhost:8080/"
        },
        "id": "y8wr54tXPGup",
        "outputId": "c899689f-47c1-48fd-e900-a73e18ad519a"
      },
      "source": [
        "T = (33,66,76,33,33,33)\n",
        "print(T)"
      ],
      "execution_count": null,
      "outputs": [
        {
          "output_type": "stream",
          "text": [
            "(33, 66, 76, 33, 33, 33)\n"
          ],
          "name": "stdout"
        }
      ]
    },
    {
      "cell_type": "code",
      "metadata": {
        "colab": {
          "base_uri": "https://localhost:8080/"
        },
        "id": "ZVGfSJ5aPogJ",
        "outputId": "1e0bb7f0-1aeb-4299-cc2b-3469ec6992a9"
      },
      "source": [
        "T.count(33)"
      ],
      "execution_count": null,
      "outputs": [
        {
          "output_type": "execute_result",
          "data": {
            "text/plain": [
              "4"
            ]
          },
          "metadata": {
            "tags": []
          },
          "execution_count": 51
        }
      ]
    },
    {
      "cell_type": "code",
      "metadata": {
        "colab": {
          "base_uri": "https://localhost:8080/"
        },
        "id": "Ur-8iIOPPz97",
        "outputId": "97d5af75-563d-467c-a26e-3e14fdbdffd6"
      },
      "source": [
        "s = set([23,45,56,'bhushan'])\n",
        "print(s)"
      ],
      "execution_count": null,
      "outputs": [
        {
          "output_type": "stream",
          "text": [
            "{56, 'bhushan', 45, 23}\n"
          ],
          "name": "stdout"
        }
      ]
    },
    {
      "cell_type": "code",
      "metadata": {
        "id": "yDNqRhtnQVpG"
      },
      "source": [
        "s.add()"
      ],
      "execution_count": null,
      "outputs": []
    },
    {
      "cell_type": "markdown",
      "metadata": {
        "id": "Qq9wpXl-UaSd"
      },
      "source": [
        "6) Dictionary \n",
        "Dictonary is nothing but the unordered collection of data values in the single unit. Dictionary holds the multiple value to optimized the data which is called as key value pair. Where as other data types has single value optimization.Each key value is specify with the help of colon :. It has following syntax  key : value . If you want to take multiples values in the dictionary then it must be seperated by comma's. \n",
        "\n",
        "In python, Dictionary can created by placing a sequence of elements within culry braces , sperated by comma's. Values in a dictionary can be of any data type and can be duplicated, where as keys can't be repeated and mus be immuatble. Dictionary can also of created by using built-in function dict(). An empty dictionary can be created by just palcing it to curly braces{}.\n",
        "\n",
        "**Note:-** \n",
        "Dictionary keys are case sensitive, same name but differnet in cases of key will be treated as distinct."
      ]
    },
    {
      "cell_type": "code",
      "metadata": {
        "colab": {
          "base_uri": "https://localhost:8080/"
        },
        "id": "fUaJA0seY7Ma",
        "outputId": "f40ec719-61a0-4bbc-b6f8-6e0e498a6b54"
      },
      "source": [
        "# Empty Dictionary \n",
        "D = {}\n",
        "print(type(D))"
      ],
      "execution_count": null,
      "outputs": [
        {
          "output_type": "stream",
          "text": [
            "<class 'dict'>\n"
          ],
          "name": "stdout"
        }
      ]
    },
    {
      "cell_type": "code",
      "metadata": {
        "colab": {
          "base_uri": "https://localhost:8080/"
        },
        "id": "Iz6PcqfHZEts",
        "outputId": "86b93b5a-f93a-46ee-9142-4ddcbb8bc85b"
      },
      "source": [
        "# creating a integer keys in  dictionary\n",
        "D = {1:'bhushan',2:'nidhi',3:'pooja'}\n",
        "print(D) "
      ],
      "execution_count": null,
      "outputs": [
        {
          "output_type": "stream",
          "text": [
            "{1: 'bhushan', 2: 'nidhi', 3: 'pooja'}\n"
          ],
          "name": "stdout"
        }
      ]
    },
    {
      "cell_type": "code",
      "metadata": {
        "colab": {
          "base_uri": "https://localhost:8080/"
        },
        "id": "SWT2gmoTZdbt",
        "outputId": "d832b030-4fd3-4245-e7c0-dd9333c5fb4f"
      },
      "source": [
        "# creating Mixed keys in Dictionary \n",
        "F = {'Name':'Bhushan',111:420,6:[1,2,3]}\n",
        "print(F)"
      ],
      "execution_count": null,
      "outputs": [
        {
          "output_type": "stream",
          "text": [
            "{'Name': 'Bhushan', 111: 420, 6: [1, 2, 3]}\n"
          ],
          "name": "stdout"
        }
      ]
    },
    {
      "cell_type": "code",
      "metadata": {
        "colab": {
          "base_uri": "https://localhost:8080/"
        },
        "id": "GAcWhfw8Z_Ut",
        "outputId": "a3c5cef5-2bf8-48f8-d5a5-f2f7d0c32e56"
      },
      "source": [
        "# Crating Dictionary using dict()\n",
        "W = dict({1:'bhushan',2:'nidhi',3:'pooja'})\n",
        "print(W)"
      ],
      "execution_count": null,
      "outputs": [
        {
          "output_type": "stream",
          "text": [
            "{1: 'bhushan', 2: 'nidhi', 3: 'pooja'}\n"
          ],
          "name": "stdout"
        }
      ]
    },
    {
      "cell_type": "code",
      "metadata": {
        "colab": {
          "base_uri": "https://localhost:8080/"
        },
        "id": "VZjC7mOzZ48x",
        "outputId": "dd6e1414-8a90-4114-d24b-ddf7fd0203e5"
      },
      "source": [
        "# Dictionary with each item/element as a pair\n",
        "D = dict([(1,'bhushan'),(2,'nidhi')])\n",
        "print(D)"
      ],
      "execution_count": null,
      "outputs": [
        {
          "output_type": "stream",
          "text": [
            "{1: 'bhushan', 2: 'nidhi'}\n"
          ],
          "name": "stdout"
        }
      ]
    },
    {
      "cell_type": "code",
      "metadata": {
        "colab": {
          "base_uri": "https://localhost:8080/"
        },
        "id": "AAQ_M5H7a7Sg",
        "outputId": "529c6b54-4b5a-4361-b92a-8dae345fcd93"
      },
      "source": [
        "# Accessing the Dictionary values by its key\n",
        "print(W[2])\n"
      ],
      "execution_count": null,
      "outputs": [
        {
          "output_type": "stream",
          "text": [
            "nidhi\n"
          ],
          "name": "stdout"
        }
      ]
    },
    {
      "cell_type": "code",
      "metadata": {
        "colab": {
          "base_uri": "https://localhost:8080/"
        },
        "id": "C5HOme2CblD3",
        "outputId": "dc80f4ba-e8c4-4ae2-d9e2-c2b3c46158e4"
      },
      "source": [
        "print(F['Name'])"
      ],
      "execution_count": null,
      "outputs": [
        {
          "output_type": "stream",
          "text": [
            "Bhushan\n"
          ],
          "name": "stdout"
        }
      ]
    },
    {
      "cell_type": "code",
      "metadata": {
        "colab": {
          "base_uri": "https://localhost:8080/"
        },
        "id": "oeznu3i5bvYl",
        "outputId": "24400ea1-561d-4417-a915-344a926ff5a1"
      },
      "source": [
        "# Accessing by using get()\n",
        "print(W.get(2))\n",
        "print(F.get('Name'))"
      ],
      "execution_count": null,
      "outputs": [
        {
          "output_type": "stream",
          "text": [
            "nidhi\n",
            "Bhushan\n"
          ],
          "name": "stdout"
        }
      ]
    },
    {
      "cell_type": "markdown",
      "metadata": {
        "id": "lNNBbNpKiMf4"
      },
      "source": [
        "02 May 2021 10:45Am"
      ]
    },
    {
      "cell_type": "code",
      "metadata": {
        "id": "juKcQpjib4-_",
        "colab": {
          "base_uri": "https://localhost:8080/"
        },
        "outputId": "dff5f350-6c84-4aaa-a1fe-7704d0c4e2ce"
      },
      "source": [
        "# WAP to add a key to a dictionary \n",
        "d = {0:10,1:30}\n",
        "print(d)\n",
        "d.update({2:50})\n",
        "print(d)"
      ],
      "execution_count": null,
      "outputs": [
        {
          "output_type": "stream",
          "text": [
            "{0: 10, 1: 30}\n",
            "{0: 10, 1: 30, 2: 50}\n"
          ],
          "name": "stdout"
        }
      ]
    },
    {
      "cell_type": "code",
      "metadata": {
        "colab": {
          "base_uri": "https://localhost:8080/"
        },
        "id": "i4S0eaBug1uM",
        "outputId": "3f35ad89-d3ec-49f6-83e4-b5d906984ac6"
      },
      "source": [
        "#WAP to concatenate dictionaries to create a new one\n",
        "d1 = {1:10,2:20}\n",
        "d2 = {3:30,4:40}\n",
        "d3 = {5:50,6:60}\n",
        "d4 = {}\n",
        "for i in (d1,d2,d3): \n",
        "  d4.update(i)\n",
        "\n",
        "print(d4)  "
      ],
      "execution_count": null,
      "outputs": [
        {
          "output_type": "stream",
          "text": [
            "{1: 10, 2: 20, 3: 30, 4: 40, 5: 50, 6: 60}\n"
          ],
          "name": "stdout"
        }
      ]
    },
    {
      "cell_type": "code",
      "metadata": {
        "colab": {
          "base_uri": "https://localhost:8080/"
        },
        "id": "k2OZHiX7iBN3",
        "outputId": "28df464d-4e27-4a8f-dd88-fb21b0f3c4ac"
      },
      "source": [
        "# WAP to sort a dictionary by value\n",
        "# import ---> import is nothing but the predefined keyword in the pyhton which is used to extract the or fetch the class or api or other packages from the library. \n",
        "# o---->Operator is nothing but the standard library for mathematical operations\n",
        "#import operaperator tor --> this is the instruction given by user to the python or jupeter notebook it tell to juypeter note book that extract the standard librabry for mathematical operations\n",
        "# itemgetter ---> itemgetter is nothing but the predefined function which is present in the operator class or library which is used to fetch the nth element from the iterable obejct(list,dictionary,set,tuple etc).\n",
        "import operator  \n",
        "a = {1:2,3:4,4:3,2:1,0:0}\n",
        "print('Orginal Dictionary:- ',d)\n",
        "print(\"Dictionary is in Acesnding order:- \")\n",
        "asc_a = sorted(a.items(),key=operator.itemgetter(1))\n",
        "print(asc_a)\n",
        "\n",
        "print(\"Dictionary is in Descending order:- \")\n",
        "dsc_a = sorted(a.items(),key=operator.itemgetter(1),reverse=True)\n",
        "print(dsc_a)\n"
      ],
      "execution_count": null,
      "outputs": [
        {
          "output_type": "stream",
          "text": [
            "Orginal Dictionary:-  {0: 10, 1: 30, 2: 50}\n",
            "Dictionary is in Acesnding order:- \n",
            "[(0, 0), (2, 1), (1, 2), (4, 3), (3, 4)]\n",
            "Dictionary is in Descending order:- \n",
            "[(3, 4), (4, 3), (1, 2), (2, 1), (0, 0)]\n"
          ],
          "name": "stdout"
        }
      ]
    },
    {
      "cell_type": "code",
      "metadata": {
        "id": "hezzNiYTiszU"
      },
      "source": [
        ""
      ],
      "execution_count": null,
      "outputs": []
    }
  ]
}