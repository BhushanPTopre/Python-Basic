{
  "nbformat": 4,
  "nbformat_minor": 0,
  "metadata": {
    "colab": {
      "name": "Looping Statement.ipynb",
      "provenance": [],
      "collapsed_sections": []
    },
    "kernelspec": {
      "name": "python3",
      "display_name": "Python 3"
    },
    "language_info": {
      "name": "python"
    }
  },
  "cells": [
    {
      "cell_type": "markdown",
      "metadata": {
        "id": "7Y3reW16kRLc"
      },
      "source": [
        "**Looping Statements**\n",
        "Looping statements is nothing but the predefined statement in python which is used to execute the perticular instruction number of times. There are various types of looping instructions or statement are as follows:- \n",
        "\n",
        "1) for loop \n",
        "for loop is nothing but the looping statment which is used to execute perticular instrction number of times. In python for loop is genrally used for sequential traversal, iteration and collection based iteration. \n",
        "\n",
        "How we use for loop in python? \n",
        "Ans:- With the help of follwoing syntax:- \n",
        "\n",
        "Synatx:- \n",
        "        for variable_name in iterable: \n",
        "            #statements\n",
        "Where, \n",
        "for  ----> for is nothing but the predefined keyword in python which is instruct the interpreter start the iterations.  \n",
        "\n",
        "Variable_name ---> it is kind of place holder or setof charcaaters which is used to store the value. \n",
        "\n",
        "in -----> in is nothing but the predefined keyword in python which is used from where value is to be search. \n",
        "\n",
        "iterable ---> iterable is any kind of collections or objects from where we have to search elements or values or items. \n",
        "\n",
        "#statements --> It is the userdefined instructions  \n",
        "\n",
        "For Example :- \n",
        "\n",
        "    for x in (23,43,5):\n",
        "       print(x)   \n",
        "\n",
        "**Range Function with for loop**\n",
        "range() --> range() is nothing but the predefined function in python which is used to genrate the series of perticular collections or objects or iterable or numbers from min to max. This function having three parameters :- \n",
        "\n",
        "1) start :- start is nothing but the parameter of range function which is used to provide starting integer value of the perticulcar sequence.   \n",
        "\n",
        "2) stop :- Stop is nothing but the parameter of range functionto provide last integer value of the perticulcar sequence.    \n",
        "\n",
        "3) step :- Step is nothing but the parameter of range function which is sued to provide integer value which determines the increment or decrement between the elements. "
      ]
    },
    {
      "cell_type": "code",
      "metadata": {
        "colab": {
          "base_uri": "https://localhost:8080/"
        },
        "id": "foSObJHNj7cn",
        "outputId": "a059dfb3-619b-4cbd-efbf-c17825980b8f"
      },
      "source": [
        "# exmaple of range function using for loop \n",
        "for i in range(5):\n",
        "  print(i)\n"
      ],
      "execution_count": null,
      "outputs": [
        {
          "output_type": "stream",
          "text": [
            "0\n",
            "1\n",
            "2\n",
            "3\n",
            "4\n"
          ],
          "name": "stdout"
        }
      ]
    },
    {
      "cell_type": "code",
      "metadata": {
        "colab": {
          "base_uri": "https://localhost:8080/"
        },
        "id": "ibFvW_2zsZD5",
        "outputId": "e8dc006d-007c-445a-a3d0-e29af10773cb"
      },
      "source": [
        "for i in range(2,9):  \n",
        "  print(i,end=\" \") "
      ],
      "execution_count": null,
      "outputs": [
        {
          "output_type": "stream",
          "text": [
            "2 3 4 5 6 7 8 "
          ],
          "name": "stdout"
        }
      ]
    },
    {
      "cell_type": "code",
      "metadata": {
        "colab": {
          "base_uri": "https://localhost:8080/"
        },
        "id": "PMxmg7rGtPqH",
        "outputId": "eb8fc191-b2d4-4ea5-94c3-3b1ab64bffef"
      },
      "source": [
        "for i in range(15,25,3):\n",
        "  print(i,end=\" \")"
      ],
      "execution_count": null,
      "outputs": [
        {
          "output_type": "stream",
          "text": [
            "15 18 21 24 "
          ],
          "name": "stdout"
        }
      ]
    },
    {
      "cell_type": "code",
      "metadata": {
        "colab": {
          "base_uri": "https://localhost:8080/"
        },
        "id": "5Ofqz1QHteQg",
        "outputId": "acbeacd8-931a-4cd3-edd9-12ffc145423e"
      },
      "source": [
        "for i in range(50,10,-5):\n",
        "    print(i,end=\" \") "
      ],
      "execution_count": null,
      "outputs": [
        {
          "output_type": "stream",
          "text": [
            "50 45 40 35 30 25 20 15 "
          ],
          "name": "stdout"
        }
      ]
    },
    {
      "cell_type": "code",
      "metadata": {
        "id": "mucOakW9ttdd",
        "colab": {
          "base_uri": "https://localhost:8080/"
        },
        "outputId": "b042fa12-c0a9-43c1-c34a-0fb82e058714"
      },
      "source": [
        "# Python Program iterate over the list \n",
        "L = [\"Bhushan\",\"Sonu\",\"Divya\"]\n",
        "for x in L:\n",
        "  print(x,end=\" \")"
      ],
      "execution_count": null,
      "outputs": [
        {
          "output_type": "stream",
          "text": [
            "Bhushan Sonu Divya "
          ],
          "name": "stdout"
        }
      ]
    },
    {
      "cell_type": "code",
      "metadata": {
        "colab": {
          "base_uri": "https://localhost:8080/"
        },
        "id": "vLFFStRVzIx_",
        "outputId": "b555e8df-e355-4634-c695-a58a7a5a737e"
      },
      "source": [
        "# Iteration over the String\n",
        "name =\"Bhushan\"\n",
        "for i in name:\n",
        "  print(i,end=\"  \")  "
      ],
      "execution_count": null,
      "outputs": [
        {
          "output_type": "stream",
          "text": [
            "B  h  u  s  h  a  n  "
          ],
          "name": "stdout"
        }
      ]
    },
    {
      "cell_type": "code",
      "metadata": {
        "colab": {
          "base_uri": "https://localhost:8080/"
        },
        "id": "wEgE3ey3zeNj",
        "outputId": "4da4a790-d24a-47b6-c1a1-737ca1a7f47f"
      },
      "source": [
        "# Iteration over the Dictionary\n",
        "D= dict()\n",
        "D['xyz'] = 123\n",
        "D['abc'] = 567\n",
        "print(D)\n",
        "for i in D:\n",
        "   print(\"%s %d\"%(i,D[i]))\n"
      ],
      "execution_count": null,
      "outputs": [
        {
          "output_type": "stream",
          "text": [
            "{'xyz': 123, 'abc': 567}\n",
            "xyz 123\n",
            "abc 567\n"
          ],
          "name": "stdout"
        }
      ]
    },
    {
      "cell_type": "code",
      "metadata": {
        "id": "YAy49r3gz1vy"
      },
      "source": [
        ""
      ],
      "execution_count": null,
      "outputs": []
    },
    {
      "cell_type": "markdown",
      "metadata": {
        "id": "ybrYszZC1VDd"
      },
      "source": [
        "2) While Loop \n",
        "While loop is nothing but the predefined instruction or statement which is used to execute perticular instruction number of times. \n",
        "\n",
        "In python, while loop is used to iterate over the block of code as lon as test expression is true. \n",
        "\n",
        "How we use while loop in python? \n",
        "Ans:- Witht he help of follwing syntax:- \n",
        "\n",
        "Syntax:-  while(condition):\n",
        "             #statements     \n",
        "\n",
        "For Example:- \n",
        "          while(i<4):\n",
        "             i=i+1\n",
        "             print(i) \n"
      ]
    },
    {
      "cell_type": "code",
      "metadata": {
        "colab": {
          "base_uri": "https://localhost:8080/"
        },
        "id": "3bzLnnrS2cJf",
        "outputId": "4ebc2dd2-2df3-4a2a-a5c4-7e7ed13d0365"
      },
      "source": [
        "# Sample example using while loop\n",
        "i = 1\n",
        "while(i<=3):\n",
        "  print(\"Welcome\")\n",
        "  i = i+1"
      ],
      "execution_count": null,
      "outputs": [
        {
          "output_type": "stream",
          "text": [
            "Welcome\n",
            "Welcome\n",
            "Welcome\n"
          ],
          "name": "stdout"
        }
      ]
    },
    {
      "cell_type": "code",
      "metadata": {
        "colab": {
          "base_uri": "https://localhost:8080/"
        },
        "id": "OO2qGemK24vu",
        "outputId": "a3ecc4af-3a1b-49a9-d1a5-839050125916"
      },
      "source": [
        "# Check whether element is present in the list or not\n",
        "x = [1,2,3,4,5]\n",
        "print(x.pop(3))\n",
        "\n",
        "print(x)\n"
      ],
      "execution_count": null,
      "outputs": [
        {
          "output_type": "stream",
          "text": [
            "4\n",
            "[1, 2, 3, 5]\n"
          ],
          "name": "stdout"
        }
      ]
    },
    {
      "cell_type": "code",
      "metadata": {
        "colab": {
          "base_uri": "https://localhost:8080/"
        },
        "id": "_h3_gOXl4xUL",
        "outputId": "99b8dab0-6252-43db-a84e-62e10f4e5d62"
      },
      "source": [
        "# WAP to generate and print a dictionary that contains a number (between 1 and n) in the form (x, x*x).\n",
        "Num = int(input(\"Enter the value of Num:\"))\n",
        "D = dict()\n",
        "for i in range(1,Num+1):\n",
        "  D[i]=i*i\n",
        "\n",
        "print(D)\n"
      ],
      "execution_count": null,
      "outputs": [
        {
          "output_type": "stream",
          "text": [
            "Enter the value of Num:6\n",
            "{1: 1, 2: 4, 3: 9, 4: 16, 5: 25, 6: 36}\n"
          ],
          "name": "stdout"
        }
      ]
    },
    {
      "cell_type": "code",
      "metadata": {
        "id": "vChYdLKx6_-M"
      },
      "source": [
        "# "
      ],
      "execution_count": null,
      "outputs": []
    },
    {
      "cell_type": "markdown",
      "metadata": {
        "id": "HD82MxMa64cb"
      },
      "source": [
        "**Loop Control Statement **\n",
        "Loop Control statement is nothing but the predefined statements or instruction which is used to control the flow of looping instruction. \n",
        "\n",
        "Loop Control statement is nothing but the predefined statements or instruction which is used to change the sequence of execution of looping instruction.  \n",
        "\n",
        "There are three Loop control Statements are as follows:- \n",
        "\n",
        "1) Break \n",
        "2) Continue \n",
        "3) Pass \n",
        "\n",
        "1) BReak :- Break is nothing but the predefined keyword or it is loop control statement which is used to exit from the current loop. \n",
        "\n",
        "\n",
        "2) Continue :- Continue  is nothing but the predefined keyword or it is loop control statement which is used to skip the current step or iteration and move towards the next step or iteration. \n",
        "\n",
        "3) Pass :- Pass is nothing but the predefined keyword or it is loop control statement which is used to write the empty loops. It is also used with Functions , Control statements or Classes etc\n",
        "\n",
        "\n"
      ]
    },
    {
      "cell_type": "code",
      "metadata": {
        "colab": {
          "base_uri": "https://localhost:8080/"
        },
        "id": "zGwzd9mD9L8u",
        "outputId": "1b3bc48b-39d8-4226-b953-ad6fdc6b88a8"
      },
      "source": [
        "# Sample Code instruction for Loop control statements \n",
        "s =\"DCPEHVPM VBMV\" \n",
        "\n",
        "for letter in s:\n",
        "  if letter == 'D' or letter == 'V': \n",
        "    break\n",
        "  print(letter,end=\" \")\n",
        "print()  \n"
      ],
      "execution_count": null,
      "outputs": [
        {
          "output_type": "stream",
          "text": [
            "\n"
          ],
          "name": "stdout"
        }
      ]
    },
    {
      "cell_type": "code",
      "metadata": {
        "colab": {
          "base_uri": "https://localhost:8080/"
        },
        "id": "Ge8A0zqy94Ve",
        "outputId": "40ab3abf-0d36-4712-ab00-7dec243b7b0f"
      },
      "source": [
        "for letter in s:\n",
        "  if letter == 'D' or letter == 'V':\n",
        "    continue\n",
        "  print(letter,end=\" \")\n",
        "print()  "
      ],
      "execution_count": null,
      "outputs": [
        {
          "output_type": "stream",
          "text": [
            "C P E H P M   B M "
          ],
          "name": "stdout"
        }
      ]
    },
    {
      "cell_type": "code",
      "metadata": {
        "colab": {
          "base_uri": "https://localhost:8080/"
        },
        "id": "i-O_Y1Oo-kcm",
        "outputId": "c7a7566c-ff7c-4cf0-ff90-4a1e0b2cf199"
      },
      "source": [
        "for letter in s:\n",
        "  if letter == 'D' or letter == 'V': \n",
        "    pass\n",
        "  print(letter,end=\" \")\n",
        "print()  "
      ],
      "execution_count": null,
      "outputs": [
        {
          "output_type": "stream",
          "text": [
            "D C P E H V P M   V B M V \n"
          ],
          "name": "stdout"
        }
      ]
    },
    {
      "cell_type": "code",
      "metadata": {
        "colab": {
          "base_uri": "https://localhost:8080/"
        },
        "id": "Gmjlwpl7_C-o",
        "outputId": "4e89d6a8-7eba-421a-ad93-007d6cb08d61"
      },
      "source": [
        "# pass uses\n",
        "s = \"Nidhi\"\n",
        "for i in s:\n",
        "  if i == 'd':\n",
        "    print(\"Pass Execute Jhala lekrino.........\")\n",
        "    pass\n",
        "  print(i)  \n"
      ],
      "execution_count": null,
      "outputs": [
        {
          "output_type": "stream",
          "text": [
            "N\n",
            "i\n",
            "Pass Execute Jhala lekrino.........\n",
            "d\n",
            "h\n",
            "i\n"
          ],
          "name": "stdout"
        }
      ]
    },
    {
      "cell_type": "code",
      "metadata": {
        "id": "EqDtXccqBZnL",
        "colab": {
          "base_uri": "https://localhost:8080/"
        },
        "outputId": "b5b8d747-759c-42da-efce-f566d7fbb278"
      },
      "source": [
        "#WAP to find those numbers which are divisible by 7 and multiple of 5, between 1500 and 2700 (both included)\n",
        "L = []\n",
        "for i in range(1500,2700):\n",
        "  if (i % 7 ==0) and (i % 5 == 0):\n",
        "     L.append(str(i)) \n",
        "print(','.join(L))     "
      ],
      "execution_count": null,
      "outputs": [
        {
          "output_type": "stream",
          "text": [
            "1505,1540,1575,1610,1645,1680,1715,1750,1785,1820,1855,1890,1925,1960,1995,2030,2065,2100,2135,2170,2205,2240,2275,2310,2345,2380,2415,2450,2485,2520,2555,2590,2625,2660,2695\n"
          ],
          "name": "stdout"
        }
      ]
    },
    {
      "cell_type": "code",
      "metadata": {
        "colab": {
          "base_uri": "https://localhost:8080/"
        },
        "id": "0Rb3g1ZHAqRI",
        "outputId": "f240b95d-7492-420a-8eaa-a5b8bf532f7a"
      },
      "source": [
        "# WAP to print the follwoing output\n",
        "n = 5\n",
        "for i in range(n):                    #  Row Sathi\n",
        "   for j in range(i):                        #  Col Sathi    \n",
        "      print('*',end=\"\")\n",
        "   print(\"\")   \n",
        "\n",
        "for i in range(n,0,-1):\n",
        "  for j in range(i): \n",
        "    print(\"*\",end=\"\")\n",
        "  print(\"\")  \n"
      ],
      "execution_count": null,
      "outputs": [
        {
          "output_type": "stream",
          "text": [
            "\n",
            "*\n",
            "**\n",
            "***\n",
            "****\n",
            "*****\n",
            "****\n",
            "***\n",
            "**\n",
            "*\n"
          ],
          "name": "stdout"
        }
      ]
    },
    {
      "cell_type": "code",
      "metadata": {
        "colab": {
          "base_uri": "https://localhost:8080/"
        },
        "id": "G9MT_6ZgFO-v",
        "outputId": "bb0f6884-a2df-47b8-9743-7ac4df529b6d"
      },
      "source": [
        "n = 5\n",
        "for i in range(n):                    #  Row Sathi\n",
        "   for j in range(i):                        #  Col Sathi    \n",
        "      print(i,end=\"\")\n",
        "   print(\"\")  "
      ],
      "execution_count": null,
      "outputs": [
        {
          "output_type": "stream",
          "text": [
            "\n",
            "1\n",
            "22\n",
            "333\n",
            "4444\n"
          ],
          "name": "stdout"
        }
      ]
    },
    {
      "cell_type": "code",
      "metadata": {
        "colab": {
          "base_uri": "https://localhost:8080/"
        },
        "id": "oSRD8Mk4MyBL",
        "outputId": "5db80b66-0067-4f97-858a-8ce41d4a70ab"
      },
      "source": [
        "n = 5\n",
        "i = 1\n",
        "for i in range(n+1):                    #  Row Sathi\n",
        "   for j in range(i):                        #  Col Sathi    \n",
        "      print(j,end=\"\")\n",
        "   print(\"\")  "
      ],
      "execution_count": null,
      "outputs": [
        {
          "output_type": "stream",
          "text": [
            "\n",
            "0\n",
            "01\n",
            "012\n",
            "0123\n",
            "01234\n"
          ],
          "name": "stdout"
        }
      ]
    },
    {
      "cell_type": "code",
      "metadata": {
        "id": "jObJFPM_M0UT"
      },
      "source": [
        "for i in '':\n",
        "  print(i)\n"
      ],
      "execution_count": null,
      "outputs": []
    },
    {
      "cell_type": "markdown",
      "metadata": {
        "id": "0fAPapx4U0b9"
      },
      "source": [
        "Write a Python program that accepts a word from the user and reverse it. "
      ]
    },
    {
      "cell_type": "code",
      "metadata": {
        "id": "cXHmciKza_ES",
        "colab": {
          "base_uri": "https://localhost:8080/"
        },
        "outputId": "3e555af5-634f-42c0-9787-b2511700eee9"
      },
      "source": [
        "word = input(\"Input any name that you want to reverse:\")\n",
        "for ch in range(len(word)-1,-1,-1): \n",
        "  print(word[ch],end='')\n",
        "  "
      ],
      "execution_count": null,
      "outputs": [
        {
          "output_type": "stream",
          "text": [
            "Input any name that you want to reverse:nidhi\n",
            "ihdin"
          ],
          "name": "stdout"
        }
      ]
    },
    {
      "cell_type": "code",
      "metadata": {
        "colab": {
          "base_uri": "https://localhost:8080/"
        },
        "id": "J63Or4tDXxeD",
        "outputId": "561db72d-6532-4c08-9adf-d53b0ff9a7fb"
      },
      "source": [
        "word = input(\"Input any name that you want to reverse:\")\n",
        "for ch in range(-1,-(len(word)+1),-1):\n",
        "  print(word[ch],end='')\n",
        "\n"
      ],
      "execution_count": null,
      "outputs": [
        {
          "output_type": "stream",
          "text": [
            "Input any name that you want to reverse:Welcome in Python\n",
            "nohtyP ni emocleW"
          ],
          "name": "stdout"
        }
      ]
    },
    {
      "cell_type": "markdown",
      "metadata": {
        "id": "1Y21j3iRdsLC"
      },
      "source": [
        "Write a Python program to count the number of even and odd numbers from a series of numbers.\n",
        "\n",
        "100 to 400 konte konte even number ahet tyachi ek list banvaychi ahe ani tyala print karaychi ahe  \n",
        "\n"
      ]
    },
    {
      "cell_type": "code",
      "metadata": {
        "id": "Z-i7uXpAYU7Q"
      },
      "source": [
        ""
      ],
      "execution_count": null,
      "outputs": []
    }
  ]
}